{
 "cells": [
  {
   "cell_type": "markdown",
   "id": "c899f964",
   "metadata": {},
   "source": [
    "Student: Tianhui Zhao\n",
    "\n",
    "UID: 505 493 240\n",
    "\n",
    "Lecture: ECON 441B\n",
    "\n",
    "Instructor: Samuel Borghese\n",
    "\n",
    "Due Date: Jan 19, 2024"
   ]
  },
  {
   "cell_type": "markdown",
   "id": "07c34ec6",
   "metadata": {},
   "source": [
    "# 1.) Pull in Data and Convert ot Monthly"
   ]
  },
  {
   "cell_type": "code",
   "execution_count": 11,
   "id": "b48f7d57",
   "metadata": {},
   "outputs": [],
   "source": [
    "import yfinance as yf\n",
    "import pandas as pd\n",
    "import numpy as np\n",
    "import matplotlib.pyplot as plt"
   ]
  },
  {
   "cell_type": "code",
   "execution_count": 12,
   "id": "4fa973aa",
   "metadata": {},
   "outputs": [
    {
     "name": "stderr",
     "output_type": "stream",
     "text": [
      "[*********************100%%**********************]  1 of 1 completed\n"
     ]
    }
   ],
   "source": [
    "apple_data = yf.download('AAPL')\n",
    "df = apple_data.resample(\"M\").last()[[\"Adj Close\"]]"
   ]
  },
  {
   "cell_type": "markdown",
   "id": "54bbfd02",
   "metadata": {},
   "source": [
    "# 2.) Create columns. \n",
    "  - Current Stock Price, Difference in stock price, Whether it went up or down over the next month,  option premium"
   ]
  },
  {
   "cell_type": "code",
   "execution_count": 15,
   "id": "1f21f202",
   "metadata": {},
   "outputs": [],
   "source": [
    "# Calcualte the difference in stock price\n",
    "df[\"Diff\"] = df.diff().shift(-1)"
   ]
  },
  {
   "cell_type": "code",
   "execution_count": 17,
   "id": "d4adfc81",
   "metadata": {},
   "outputs": [],
   "source": [
    "# Target up or down\n",
    "df[\"Target\"] = np.sign(df[\"Diff\"])\n",
    "\n",
    "# Option Premium\n",
    "df[\"Premium\"] = .08 * df[\"Adj Close\"]"
   ]
  },
  {
   "cell_type": "code",
   "execution_count": 18,
   "id": "9423e3a9",
   "metadata": {},
   "outputs": [
    {
     "data": {
      "text/html": [
       "<div>\n",
       "<style scoped>\n",
       "    .dataframe tbody tr th:only-of-type {\n",
       "        vertical-align: middle;\n",
       "    }\n",
       "\n",
       "    .dataframe tbody tr th {\n",
       "        vertical-align: top;\n",
       "    }\n",
       "\n",
       "    .dataframe thead th {\n",
       "        text-align: right;\n",
       "    }\n",
       "</style>\n",
       "<table border=\"1\" class=\"dataframe\">\n",
       "  <thead>\n",
       "    <tr style=\"text-align: right;\">\n",
       "      <th></th>\n",
       "      <th>Adj Close</th>\n",
       "      <th>Diff</th>\n",
       "      <th>Target</th>\n",
       "      <th>Premium</th>\n",
       "    </tr>\n",
       "    <tr>\n",
       "      <th>Date</th>\n",
       "      <th></th>\n",
       "      <th></th>\n",
       "      <th></th>\n",
       "      <th></th>\n",
       "    </tr>\n",
       "  </thead>\n",
       "  <tbody>\n",
       "    <tr>\n",
       "      <th>1980-12-31</th>\n",
       "      <td>0.117887</td>\n",
       "      <td>-0.020296</td>\n",
       "      <td>-1.0</td>\n",
       "      <td>0.009431</td>\n",
       "    </tr>\n",
       "    <tr>\n",
       "      <th>1981-01-31</th>\n",
       "      <td>0.097591</td>\n",
       "      <td>-0.006045</td>\n",
       "      <td>-1.0</td>\n",
       "      <td>0.007807</td>\n",
       "    </tr>\n",
       "    <tr>\n",
       "      <th>1981-02-28</th>\n",
       "      <td>0.091546</td>\n",
       "      <td>-0.006909</td>\n",
       "      <td>-1.0</td>\n",
       "      <td>0.007324</td>\n",
       "    </tr>\n",
       "    <tr>\n",
       "      <th>1981-03-31</th>\n",
       "      <td>0.084637</td>\n",
       "      <td>0.013386</td>\n",
       "      <td>1.0</td>\n",
       "      <td>0.006771</td>\n",
       "    </tr>\n",
       "    <tr>\n",
       "      <th>1981-04-30</th>\n",
       "      <td>0.098023</td>\n",
       "      <td>0.016409</td>\n",
       "      <td>1.0</td>\n",
       "      <td>0.007842</td>\n",
       "    </tr>\n",
       "  </tbody>\n",
       "</table>\n",
       "</div>"
      ],
      "text/plain": [
       "            Adj Close      Diff  Target   Premium\n",
       "Date                                             \n",
       "1980-12-31   0.117887 -0.020296    -1.0  0.009431\n",
       "1981-01-31   0.097591 -0.006045    -1.0  0.007807\n",
       "1981-02-28   0.091546 -0.006909    -1.0  0.007324\n",
       "1981-03-31   0.084637  0.013386     1.0  0.006771\n",
       "1981-04-30   0.098023  0.016409     1.0  0.007842"
      ]
     },
     "execution_count": 18,
     "metadata": {},
     "output_type": "execute_result"
    }
   ],
   "source": [
    "df.head()"
   ]
  },
  {
   "cell_type": "markdown",
   "id": "c9987e25",
   "metadata": {},
   "source": [
    "# 3.) Pull in X data, normalize and build a LogReg on column 2"
   ]
  },
  {
   "cell_type": "code",
   "execution_count": 19,
   "id": "132b4471",
   "metadata": {},
   "outputs": [],
   "source": [
    "import numpy as np\n",
    "import pandas as pd\n",
    "from sklearn.model_selection import train_test_split\n",
    "from sklearn.linear_model import LogisticRegression\n",
    "from sklearn import metrics"
   ]
  },
  {
   "cell_type": "code",
   "execution_count": 20,
   "id": "b21f3c33",
   "metadata": {},
   "outputs": [],
   "source": [
    "X = pd.read_csv(\"Xdata.csv\", index_col=\"Date\", parse_dates=[\"Date\"])"
   ]
  },
  {
   "cell_type": "code",
   "execution_count": 25,
   "id": "7b38602e",
   "metadata": {},
   "outputs": [],
   "source": [
    "y = df.loc[:\"2023-09-30\",\"Target\"].copy()\n",
    "\n",
    "df = df.loc[:\"2023-09-30\",:].copy()"
   ]
  },
  {
   "cell_type": "code",
   "execution_count": 22,
   "id": "f3bc75a2",
   "metadata": {},
   "outputs": [],
   "source": [
    "logreg = LogisticRegression()\n",
    "\n",
    "logreg.fit(X,y)\n",
    "\n",
    "y_pred = logreg.predict(X)"
   ]
  },
  {
   "cell_type": "markdown",
   "id": "2c2c792d",
   "metadata": {},
   "source": [
    "# 4.) Add columns, prediction and profits."
   ]
  },
  {
   "cell_type": "code",
   "execution_count": 26,
   "id": "8009466a",
   "metadata": {},
   "outputs": [],
   "source": [
    "df[\"Predictions\"] = y_pred"
   ]
  },
  {
   "cell_type": "code",
   "execution_count": 33,
   "id": "4aae021b",
   "metadata": {},
   "outputs": [],
   "source": [
    "df[\"Profits\"] = 0.\n",
    "\n",
    "# True Positives\n",
    "df.loc[(df[\"Predictions\"] == 1) & (df[\"Target\"] == 1), \"Profits\"] = df[\"Premium\"]\n",
    "\n",
    "# False Positives\n",
    "df.loc[(df[\"Predictions\"] == 1) & (df[\"Target\"] == -1), \"Profits\"] = df[\"Diff\"] * 100 + df[\"Premium\"]\n",
    "\n"
   ]
  },
  {
   "cell_type": "code",
   "execution_count": null,
   "id": "7c8a051f",
   "metadata": {},
   "outputs": [],
   "source": []
  },
  {
   "cell_type": "markdown",
   "id": "e379d80c",
   "metadata": {},
   "source": [
    "# 5.) Plot profits over time"
   ]
  },
  {
   "cell_type": "code",
   "execution_count": 38,
   "id": "bc16f4dc",
   "metadata": {},
   "outputs": [
    {
     "data": {
      "image/png": "[encoded data removed]",
      "text/plain": [
       "<Figure size 640x480 with 1 Axes>"
      ]
     },
     "metadata": {},
     "output_type": "display_data"
    }
   ],
   "source": [
    "plt.plot(np.cumsum(df[\"Profits\"]))\n",
    "plt.title(\"Profit Over Time\")\n",
    "plt.xlabel(\"Year\")\n",
    "plt.show()\n",
    "\n",
    "# Pandemic"
   ]
  },
  {
   "cell_type": "markdown",
   "id": "99340635",
   "metadata": {},
   "source": [
    "# 5.5) Your skills from MQE to help Mr.Lius ventures\n"
   ]
  },
  {
   "cell_type": "markdown",
   "id": "e0844175",
   "metadata": {},
   "source": [
    "I learned how to collect and interpret data so I may help Mr. Lius's platform by tidying their data and present these data in more visual ways for interested clients. Also, since there are people coming to this platform to sell their personal brands, make features, develop strategies, I may assist in categorize clients' demands and match them with potential solutions or people those are able to help. For example, what we just learned above is useful in developing stock strategies and similarly classifying other decisions."
   ]
  },
  {
   "cell_type": "markdown",
   "id": "5c970b3f",
   "metadata": {},
   "source": [
    "# 6.) Create a loop that stores total profits over time"
   ]
  },
  {
   "cell_type": "code",
   "execution_count": null,
   "id": "abab021c",
   "metadata": {},
   "outputs": [],
   "source": [
    "# NA"
   ]
  },
  {
   "cell_type": "markdown",
   "id": "30f8738c",
   "metadata": {},
   "source": [
    "# 7.) What is the optimal threshold and plot the total profits for this model."
   ]
  },
  {
   "cell_type": "code",
   "execution_count": null,
   "id": "aba0f592",
   "metadata": {},
   "outputs": [],
   "source": [
    "# NA"
   ]
  }
 ],
 "metadata": {
  "kernelspec": {
   "display_name": "Python 3",
   "language": "python",
   "name": "python3"
  },
  "language_info": {
   "codemirror_mode": {
    "name": "ipython",
    "version": 3
   },
   "file_extension": ".py",
   "mimetype": "text/x-python",
   "name": "python",
   "nbconvert_exporter": "python",
   "pygments_lexer": "ipython3",
   "version": "3.10.13"
  }
 },
 "nbformat": 4,
 "nbformat_minor": 5
}
